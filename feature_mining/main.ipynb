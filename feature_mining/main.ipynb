{
 "cells": [
  {
   "cell_type": "markdown",
   "metadata": {},
   "source": [
    "## Run everything"
   ]
  },
  {
   "cell_type": "code",
   "execution_count": 1,
   "metadata": {},
   "outputs": [],
   "source": [
    "import pandas as pd # Managing dataframes\n",
    "from tqdm.auto import tqdm # Progress bars. Will automatically choose between GUI & console bars."
   ]
  },
  {
   "cell_type": "code",
   "execution_count": 2,
   "metadata": {},
   "outputs": [],
   "source": [
    "from preprocess import preprocess\n",
    "from summarise import summarise\n",
    "from report_features import report_features"
   ]
  },
  {
   "cell_type": "code",
   "execution_count": 3,
   "metadata": {},
   "outputs": [],
   "source": [
    "# Set run variables\n",
    "reviews_folder_directory = '../../review_data/'\n",
    "\n",
    "app_id = None\n",
    "ask_for_game = app_id is None # If no app_id is given, ask the user which game to summarise."
   ]
  },
  {
   "cell_type": "code",
   "execution_count": 4,
   "metadata": {},
   "outputs": [],
   "source": [
    "# Import game details\n",
    "details = pd.read_csv(reviews_folder_directory+\"game_details.csv\", sep = '|', escapechar = '@', index_col=0)"
   ]
  },
  {
   "cell_type": "code",
   "execution_count": 5,
   "metadata": {},
   "outputs": [
    {
     "name": "stdout",
     "output_type": "stream",
     "text": [
      "Which game would you like to summarise? Found:\n",
      "230410: Warframe\n",
      "359550: Tom Clancy's Rainbow Six® Siege\n",
      "   570: Dota 2\n",
      "578080: PLAYERUNKNOWN'S BATTLEGROUNDS\n",
      "   730: Counter-Strike: Global Offensive\n",
      "\n",
      "App_ID: 230410\n"
     ]
    }
   ],
   "source": [
    "if(ask_for_game):\n",
    "    # Get the max string length of the steam_appids\n",
    "    id_len = max( \n",
    "             map(len,\n",
    "             map(str,\n",
    "             details['steam_appid']\n",
    "             )))\n",
    "    \n",
    "    print(\"Which game would you like to summarise? Found:\")\n",
    "    for app_id in details.index:\n",
    "        name = details.loc[app_id, \"name\"]\n",
    "        print(f\"\"\"{app_id:>{id_len}}: {name}\"\"\")\n",
    "    print(\"\")\n",
    "    app_id = int(input(\"App_ID: \"))\n",
    "    \n",
    "app_name = details.loc[app_id, \"name\"]"
   ]
  },
  {
   "cell_type": "code",
   "execution_count": 6,
   "metadata": {},
   "outputs": [],
   "source": [
    "# Import reviews, and delete bad reviews.\n",
    "review_data = pd.read_csv(reviews_folder_directory+str(app_id)+\".csv\", sep = '|', escapechar = '@', dtype=str)\n",
    "review_data.dropna(subset=['review'], inplace=True)"
   ]
  },
  {
   "cell_type": "code",
   "execution_count": 7,
   "metadata": {},
   "outputs": [
    {
     "name": "stdout",
     "output_type": "stream",
     "text": [
      "Opening appID 230410: \"Warframe\".\n",
      "Reviews found: 1254.\n"
     ]
    }
   ],
   "source": [
    "print(f\"\"\"Opening appID {app_id}: \\\"{app_name}\\\".\n",
    "Reviews found: {review_data.shape[0]}.\"\"\")"
   ]
  },
  {
   "cell_type": "code",
   "execution_count": 8,
   "metadata": {},
   "outputs": [
    {
     "name": "stdout",
     "output_type": "stream",
     "text": [
      "Preprocessing data...\n"
     ]
    },
    {
     "data": {
      "application/vnd.jupyter.widget-view+json": {
       "model_id": "8a634f9dab9c4fadb55a23c1fd25cebe",
       "version_major": 2,
       "version_minor": 0
      },
      "text/plain": [
       "HBox(children=(IntProgress(value=0, max=1254), HTML(value='')))"
      ]
     },
     "metadata": {},
     "output_type": "display_data"
    },
    {
     "name": "stdout",
     "output_type": "stream",
     "text": [
      "\n",
      "Preprocessing complete. Reviews after preprocessing: 795\n"
     ]
    }
   ],
   "source": [
    "# Preprocess & tokenize our data\n",
    "print(f\"Preprocessing data...\")\n",
    "preprocessed_reivews = preprocess(review_data, lower_case=True, minimum_length=10)\n",
    "print(f\"Preprocessing complete. Reviews after preprocessing: {preprocessed_reivews.shape[0]}\")"
   ]
  },
  {
   "cell_type": "code",
   "execution_count": 9,
   "metadata": {},
   "outputs": [
    {
     "name": "stdout",
     "output_type": "stream",
     "text": [
      "Summarising reviews...\n"
     ]
    },
    {
     "data": {
      "application/vnd.jupyter.widget-view+json": {
       "model_id": "9b8b9b41e01a4f3b986c650038ca2e44",
       "version_major": 2,
       "version_minor": 0
      },
      "text/plain": [
       "HBox(children=(IntProgress(value=0, max=795), HTML(value='')))"
      ]
     },
     "metadata": {},
     "output_type": "display_data"
    },
    {
     "name": "stdout",
     "output_type": "stream",
     "text": [
      "\n",
      "Summarisation complete!\n"
     ]
    }
   ],
   "source": [
    "# Get our features with our summaries\n",
    "print(f\"Summarising reviews...\")\n",
    "feature_data = summarise(preprocessed_reivews)\n",
    "print(f\"Summarisation complete!\")"
   ]
  },
  {
   "cell_type": "code",
   "execution_count": 10,
   "metadata": {},
   "outputs": [
    {
     "name": "stdout",
     "output_type": "stream",
     "text": [
      "Feature report for Warframe:\n",
      "\n",
      "time (65.52% positive) \n",
      "positive = 19, negative = 10, total = 107\n",
      "\n",
      "hours (90.32% positive) \n",
      "positive = 28, negative = 3, total = 107\n",
      "\n",
      "players (61.29% positive) \n",
      "positive = 19, negative = 12, total = 87\n",
      "\n",
      "warframe (84.38% positive) \n",
      "positive = 27, negative = 5, total = 78\n",
      "\n",
      "weapons (72.22% positive) \n",
      "positive = 26, negative = 10, total = 78\n",
      "\n",
      "money (40.00% positive) \n",
      "positive = 6, negative = 9, total = 77\n",
      "\n",
      "graphics (92.98% positive) \n",
      "positive = 53, negative = 4, total = 73\n",
      "\n",
      "gameplay (84.38% positive) \n",
      "positive = 27, negative = 5, total = 65\n",
      "\n",
      "people (61.90% positive) \n",
      "positive = 13, negative = 8, total = 64\n",
      "\n",
      "community (89.36% positive) \n",
      "positive = 42, negative = 5, total = 63\n",
      "\n"
     ]
    }
   ],
   "source": [
    "report_features(feature_data, app_name, number = 10)"
   ]
  }
 ],
 "metadata": {
  "kernelspec": {
   "display_name": "Python 3",
   "language": "python",
   "name": "python3"
  },
  "language_info": {
   "codemirror_mode": {
    "name": "ipython",
    "version": 3
   },
   "file_extension": ".py",
   "mimetype": "text/x-python",
   "name": "python",
   "nbconvert_exporter": "python",
   "pygments_lexer": "ipython3",
   "version": "3.7.3"
  }
 },
 "nbformat": 4,
 "nbformat_minor": 2
}
