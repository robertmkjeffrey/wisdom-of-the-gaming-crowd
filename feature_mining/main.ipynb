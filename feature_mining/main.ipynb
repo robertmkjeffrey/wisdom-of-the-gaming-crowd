{
 "cells": [
  {
   "cell_type": "markdown",
   "metadata": {},
   "source": [
    "# Feature Summariser\n",
    "This script performs summarisation of downloaded game reviews.\n",
    "\n",
    "Sections:\n",
    "* [Load Game Data](#load_data)\n",
    "* [Preprocess Reviews](#preprocess)\n",
    "* [Summarise Reviews](#summarise)"
   ]
  },
  {
   "cell_type": "code",
   "execution_count": 1,
   "metadata": {},
   "outputs": [],
   "source": [
    "import pandas as pd # Managing dataframes\n",
    "from tqdm.auto import tqdm # Progress bars. Will automatically choose between GUI & console bars.\n",
    "\n",
    "# Load project code\n",
    "from preprocess import preprocess\n",
    "from summarise import summarise\n",
    "from report_features import report_features"
   ]
  },
  {
   "cell_type": "raw",
   "metadata": {},
   "source": [
    "# Download NLTK models necessary for summarization.\n",
    "# Change from NBConvert to Code to run.\n",
    "\n",
    "import nltk\n",
    "# Tokenizer\n",
    "nltk.download('punkt')\n",
    "# Sentiment Model\n",
    "nltk.download('vader_lexicon')\n",
    "# POS Tagger\n",
    "nltk.download('averaged_perceptron_tagger')"
   ]
  },
  {
   "cell_type": "code",
   "execution_count": 2,
   "metadata": {},
   "outputs": [],
   "source": [
    "# Set run variables\n",
    "reviews_folder_directory = '../review_data/'\n",
    "\n",
    "app_id = None # Optional: app_id to summarise.\n",
    "ask_for_game = app_id is None # If no app_id is given, ask the user which game to summarise."
   ]
  },
  {
   "cell_type": "markdown",
   "metadata": {},
   "source": [
    "## Load Game Data <a name=\"load_data\"/>\n",
    "\n",
    "Load game metadata and reviews. If no app_id was provided previously, this section prompts to select a game."
   ]
  },
  {
   "cell_type": "code",
   "execution_count": 3,
   "metadata": {},
   "outputs": [],
   "source": [
    "# Import game details\n",
    "details = pd.read_csv(reviews_folder_directory+\"game_details.csv\", sep = '|', escapechar = '@', index_col=0)"
   ]
  },
  {
   "cell_type": "code",
   "execution_count": 4,
   "metadata": {},
   "outputs": [
    {
     "name": "stdout",
     "output_type": "stream",
     "text": [
      "Which game would you like to summarise? Found:\n",
      "230410: Warframe\n",
      "359550: Tom Clancy's Rainbow Six® Siege\n",
      "   570: Dota 2\n",
      "578080: PLAYERUNKNOWN'S BATTLEGROUNDS\n",
      "   730: Counter-Strike: Global Offensive\n",
      "\n",
      "App_ID: 730\n"
     ]
    }
   ],
   "source": [
    "if(ask_for_game):\n",
    "    # Get the max string length of the steam_appids\n",
    "    id_len = max( \n",
    "             map(len,\n",
    "             map(str,\n",
    "             details['steam_appid']\n",
    "             )))\n",
    "    \n",
    "    print(\"Which game would you like to summarise? Found:\")\n",
    "    for app_id in details.index:\n",
    "        name = details.loc[app_id, \"name\"]\n",
    "        print(f\"\"\"{app_id:>{id_len}}: {name}\"\"\")\n",
    "    print(\"\")\n",
    "    app_id = int(input(\"App_ID: \"))\n",
    "    \n",
    "app_name = details.loc[app_id, \"name\"]"
   ]
  },
  {
   "cell_type": "code",
   "execution_count": 5,
   "metadata": {},
   "outputs": [
    {
     "name": "stdout",
     "output_type": "stream",
     "text": [
      "Opening appID 730: \"Counter-Strike: Global Offensive\".\n",
      "Reviews found: 150173.\n"
     ]
    }
   ],
   "source": [
    "# Import reviews, and delete bad reviews.\n",
    "print(f\"\"\"Opening appID {app_id}: \\\"{app_name}\\\".\"\"\")\n",
    "\n",
    "review_data = pd.read_csv(reviews_folder_directory+str(app_id)+\".csv\", sep = '|', escapechar = '@', dtype=str)\n",
    "review_data.dropna(subset=['review'], inplace=True)\n",
    "\n",
    "print(f\"Reviews found: {review_data.shape[0]}.\")"
   ]
  },
  {
   "cell_type": "markdown",
   "metadata": {},
   "source": [
    "## Preprocess Reviews <a name=\"preprocess\"/>\n",
    "\n",
    "Tokenise reviews using the punkt tokenizer. Reviews that are too short are filtered out."
   ]
  },
  {
   "cell_type": "code",
   "execution_count": 6,
   "metadata": {},
   "outputs": [
    {
     "name": "stdout",
     "output_type": "stream",
     "text": [
      "Preprocessing data...\n"
     ]
    },
    {
     "data": {
      "application/vnd.jupyter.widget-view+json": {
       "model_id": "869d7878c7a04a2c8b709e4daaad94d0",
       "version_major": 2,
       "version_minor": 0
      },
      "text/plain": [
       "  0%|          | 0/150173 [00:00<?, ?it/s]"
      ]
     },
     "metadata": {},
     "output_type": "display_data"
    },
    {
     "name": "stdout",
     "output_type": "stream",
     "text": [
      "Preprocessing complete. Reviews after preprocessing: 58648\n"
     ]
    }
   ],
   "source": [
    "# Preprocess & tokenize our data\n",
    "print(f\"Preprocessing data...\")\n",
    "preprocessed_reivews = preprocess(review_data, lower_case=True, minimum_length=10)\n",
    "print(f\"Preprocessing complete. Reviews after preprocessing: {preprocessed_reivews.shape[0]}\")"
   ]
  },
  {
   "cell_type": "markdown",
   "metadata": {},
   "source": [
    "## Summarise Reviews <a name=\"summarise\"/>"
   ]
  },
  {
   "cell_type": "code",
   "execution_count": 7,
   "metadata": {},
   "outputs": [
    {
     "name": "stdout",
     "output_type": "stream",
     "text": [
      "Summarising reviews...\n"
     ]
    },
    {
     "data": {
      "application/vnd.jupyter.widget-view+json": {
       "model_id": "4e36e75c45404681bc39ece0decb00fc",
       "version_major": 2,
       "version_minor": 0
      },
      "text/plain": [
       "  0%|          | 0/58648 [00:00<?, ?it/s]"
      ]
     },
     "metadata": {},
     "output_type": "display_data"
    },
    {
     "name": "stdout",
     "output_type": "stream",
     "text": [
      "Summarisation complete!\n"
     ]
    }
   ],
   "source": [
    "# Get our features with our summaries\n",
    "print(f\"Summarising reviews...\")\n",
    "feature_data = summarise(preprocessed_reivews)\n",
    "print(f\"Summarisation complete!\")"
   ]
  },
  {
   "cell_type": "code",
   "execution_count": 8,
   "metadata": {},
   "outputs": [
    {
     "name": "stdout",
     "output_type": "stream",
     "text": [
      "Feature report for Counter-Strike: Global Offensive:\n",
      "\n",
      "people (64.41% positive) \n",
      "positive = 1220, negative = 674, total = 4248\n",
      "\n",
      "hackers (72.32% positive) \n",
      "positive = 755, negative = 289, total = 3936\n",
      "\n",
      "players (69.93% positive) \n",
      "positive = 1058, negative = 455, total = 3684\n",
      "\n",
      "time (73.07% positive) \n",
      "positive = 898, negative = 331, total = 3349\n",
      "\n",
      "cheaters (34.42% positive) \n",
      "positive = 455, negative = 867, total = 3340\n",
      "\n",
      "community (60.23% positive) \n",
      "positive = 798, negative = 527, total = 2523\n",
      "\n",
      "fps (92.73% positive) \n",
      "positive = 1250, negative = 98, total = 1935\n",
      "\n",
      "cs (84.85% positive) \n",
      "positive = 846, negative = 151, total = 1851\n",
      "\n",
      "valve (59.67% positive) \n",
      "positive = 549, negative = 371, total = 1679\n",
      "\n",
      "hours (62.50% positive) \n",
      "positive = 255, negative = 153, total = 1576\n",
      "\n"
     ]
    }
   ],
   "source": [
    "report_features(feature_data, app_name, number = 10)"
   ]
  }
 ],
 "metadata": {
  "kernelspec": {
   "display_name": "Python 3 (ipykernel)",
   "language": "python",
   "name": "python3"
  },
  "language_info": {
   "codemirror_mode": {
    "name": "ipython",
    "version": 3
   },
   "file_extension": ".py",
   "mimetype": "text/x-python",
   "name": "python",
   "nbconvert_exporter": "python",
   "pygments_lexer": "ipython3",
   "version": "3.10.8"
  }
 },
 "nbformat": 4,
 "nbformat_minor": 2
}
