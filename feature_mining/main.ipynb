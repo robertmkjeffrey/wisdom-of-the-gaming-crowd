{
 "cells": [
  {
   "cell_type": "markdown",
   "metadata": {},
   "source": [
    "## Run everything"
   ]
  },
  {
   "cell_type": "code",
   "execution_count": 1,
   "metadata": {},
   "outputs": [],
   "source": [
    "import pandas as pd # Managing dataframes\n",
    "from tqdm.auto import tqdm # Progress bars. Will automatically choose between GUI & console bars."
   ]
  },
  {
   "cell_type": "code",
   "execution_count": 2,
   "metadata": {},
   "outputs": [],
   "source": [
    "from preprocess import preprocess\n",
    "from summarise import summarise\n",
    "from report_features import report_features"
   ]
  },
  {
   "cell_type": "code",
   "execution_count": 3,
   "metadata": {},
   "outputs": [],
   "source": [
    "# Set run variables\n",
    "reviews_folder_directory = '../review_data/'\n",
    "\n",
    "app_id = None\n",
    "ask_for_game = app_id is None # If no app_id is given, ask the user which game to summarise."
   ]
  },
  {
   "cell_type": "code",
   "execution_count": 4,
   "metadata": {},
   "outputs": [],
   "source": [
    "# Import game details\n",
    "details = pd.read_csv(reviews_folder_directory+\"game_details.csv\", sep = '|', escapechar = '@', index_col=0)"
   ]
  },
  {
   "cell_type": "code",
   "execution_count": 5,
   "metadata": {},
   "outputs": [
    {
     "name": "stdout",
     "output_type": "stream",
     "text": [
      "Which game would you like to summarise? Found:\n",
      "230410: Warframe\n",
      "359550: Tom Clancy's Rainbow Six® Siege\n",
      "   570: Dota 2\n",
      "578080: PLAYERUNKNOWN'S BATTLEGROUNDS\n",
      "   730: Counter-Strike: Global Offensive\n",
      "\n",
      "App_ID: 578080\n"
     ]
    }
   ],
   "source": [
    "if(ask_for_game):\n",
    "    # Get the max string length of the steam_appids\n",
    "    id_len = max( \n",
    "             map(len,\n",
    "             map(str,\n",
    "             details['steam_appid']\n",
    "             )))\n",
    "    \n",
    "    print(\"Which game would you like to summarise? Found:\")\n",
    "    for app_id in details.index:\n",
    "        name = details.loc[app_id, \"name\"]\n",
    "        print(f\"\"\"{app_id:>{id_len}}: {name}\"\"\")\n",
    "    print(\"\")\n",
    "    app_id = int(input(\"App_ID: \"))\n",
    "    \n",
    "app_name = details.loc[app_id, \"name\"]"
   ]
  },
  {
   "cell_type": "code",
   "execution_count": 6,
   "metadata": {},
   "outputs": [],
   "source": [
    "# Import reviews, and delete bad reviews.\n",
    "review_data = pd.read_csv(reviews_folder_directory+str(app_id)+\".csv\", sep = '|', escapechar = '@', dtype=str)\n",
    "review_data.dropna(subset=['review'], inplace=True)"
   ]
  },
  {
   "cell_type": "code",
   "execution_count": 7,
   "metadata": {},
   "outputs": [
    {
     "name": "stdout",
     "output_type": "stream",
     "text": [
      "Opening appID 578080: \"PLAYERUNKNOWN'S BATTLEGROUNDS\".\n",
      "Reviews found: 175151.\n"
     ]
    }
   ],
   "source": [
    "print(f\"\"\"Opening appID {app_id}: \\\"{app_name}\\\".\n",
    "Reviews found: {review_data.shape[0]}.\"\"\")"
   ]
  },
  {
   "cell_type": "code",
   "execution_count": 8,
   "metadata": {},
   "outputs": [
    {
     "name": "stdout",
     "output_type": "stream",
     "text": [
      "Preprocessing data...\n"
     ]
    },
    {
     "data": {
      "application/vnd.jupyter.widget-view+json": {
       "model_id": "953a83ea34a543ffad5630c3febeb938",
       "version_major": 2,
       "version_minor": 0
      },
      "text/plain": [
       "HBox(children=(IntProgress(value=0, max=175151), HTML(value='')))"
      ]
     },
     "metadata": {},
     "output_type": "display_data"
    },
    {
     "name": "stdout",
     "output_type": "stream",
     "text": [
      "\n",
      "Preprocessing complete. Reviews after preprocessing: 108936\n"
     ]
    }
   ],
   "source": [
    "# Preprocess & tokenize our data\n",
    "print(f\"Preprocessing data...\")\n",
    "preprocessed_reivews = preprocess(review_data, lower_case=True, minimum_length=10)\n",
    "print(f\"Preprocessing complete. Reviews after preprocessing: {preprocessed_reivews.shape[0]}\")"
   ]
  },
  {
   "cell_type": "code",
   "execution_count": 9,
   "metadata": {},
   "outputs": [
    {
     "name": "stdout",
     "output_type": "stream",
     "text": [
      "Summarising reviews...\n"
     ]
    },
    {
     "data": {
      "application/vnd.jupyter.widget-view+json": {
       "model_id": "7ca032b50b59496ba1203eab113ea781",
       "version_major": 2,
       "version_minor": 0
      },
      "text/plain": [
       "HBox(children=(IntProgress(value=0, max=108936), HTML(value='')))"
      ]
     },
     "metadata": {},
     "output_type": "display_data"
    },
    {
     "name": "stdout",
     "output_type": "stream",
     "text": [
      "\n",
      "Summarisation complete!\n"
     ]
    }
   ],
   "source": [
    "# Get our features with our summaries\n",
    "print(f\"Summarising reviews...\")\n",
    "feature_data = summarise(preprocessed_reivews)\n",
    "print(f\"Summarisation complete!\")"
   ]
  },
  {
   "cell_type": "code",
   "execution_count": 10,
   "metadata": {},
   "outputs": [
    {
     "name": "stdout",
     "output_type": "stream",
     "text": [
      "Feature report for PLAYERUNKNOWN'S BATTLEGROUNDS:\n",
      "\n",
      "regionlockchina (28.57% positive) \n",
      "positive = 2, negative = 5, total = 10254\n",
      "\n",
      "access (75.35% positive) \n",
      "positive = 1076, negative = 352, total = 10087\n",
      "\n",
      "time (61.09% positive) \n",
      "positive = 1743, negative = 1110, total = 9279\n",
      "\n",
      "people (53.01% positive) \n",
      "positive = 1393, negative = 1235, total = 7874\n",
      "\n",
      "servers (39.55% positive) \n",
      "positive = 1046, negative = 1599, total = 7678\n",
      "\n",
      "players (56.03% positive) \n",
      "positive = 1235, negative = 969, total = 7460\n",
      "\n",
      "hackers (43.68% positive) \n",
      "positive = 442, negative = 570, total = 5371\n",
      "\n",
      "bugs (50.39% positive) \n",
      "positive = 514, negative = 506, total = 5208\n",
      "\n",
      "map (70.56% positive) \n",
      "positive = 1076, negative = 449, total = 5067\n",
      "\n",
      "battle (85.47% positive) \n",
      "positive = 2418, negative = 411, total = 4827\n",
      "\n",
      "money (52.84% positive) \n",
      "positive = 680, negative = 607, total = 4301\n",
      "\n",
      "hours (66.55% positive) \n",
      "positive = 589, negative = 296, total = 3793\n",
      "\n",
      "gameplay (76.58% positive) \n",
      "positive = 1573, negative = 481, total = 3625\n",
      "\n",
      "issues (48.90% positive) \n",
      "positive = 357, negative = 373, total = 3450\n",
      "\n",
      "times (54.11% positive) \n",
      "positive = 626, negative = 531, total = 3429\n",
      "\n"
     ]
    }
   ],
   "source": [
    "report_features(feature_data, app_name, number = 15)"
   ]
  }
 ],
 "metadata": {
  "kernelspec": {
   "display_name": "Python 3",
   "language": "python",
   "name": "python3"
  },
  "language_info": {
   "codemirror_mode": {
    "name": "ipython",
    "version": 3
   },
   "file_extension": ".py",
   "mimetype": "text/x-python",
   "name": "python",
   "nbconvert_exporter": "python",
   "pygments_lexer": "ipython3",
   "version": "3.7.3"
  }
 },
 "nbformat": 4,
 "nbformat_minor": 2
}
